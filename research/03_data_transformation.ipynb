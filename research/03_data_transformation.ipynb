{
 "cells": [
  {
   "cell_type": "code",
   "execution_count": 1,
   "metadata": {},
   "outputs": [],
   "source": [
    "import os"
   ]
  },
  {
   "cell_type": "code",
   "execution_count": 2,
   "metadata": {},
   "outputs": [
    {
     "data": {
      "text/plain": [
       "'c:\\\\Projekte\\\\Data_Science\\\\End-to-end-Machine-Learning-Project-with-MLflow\\\\Git_Project\\\\MLFlow-Machine-Learning\\\\research'"
      ]
     },
     "execution_count": 2,
     "metadata": {},
     "output_type": "execute_result"
    }
   ],
   "source": [
    "%pwd"
   ]
  },
  {
   "cell_type": "code",
   "execution_count": 3,
   "metadata": {},
   "outputs": [],
   "source": [
    "os.chdir(\"../\")"
   ]
  },
  {
   "cell_type": "code",
   "execution_count": 4,
   "metadata": {},
   "outputs": [
    {
     "data": {
      "text/plain": [
       "'c:\\\\Projekte\\\\Data_Science\\\\End-to-end-Machine-Learning-Project-with-MLflow\\\\Git_Project\\\\MLFlow-Machine-Learning'"
      ]
     },
     "execution_count": 4,
     "metadata": {},
     "output_type": "execute_result"
    }
   ],
   "source": [
    "%pwd"
   ]
  },
  {
   "cell_type": "code",
   "execution_count": 5,
   "metadata": {},
   "outputs": [],
   "source": [
    "from dataclasses import dataclass\n",
    "from pathlib import Path\n",
    "\n",
    "\n",
    "@dataclass(frozen=True)\n",
    "class DataTransformationConfig:\n",
    "    root_dir: Path\n",
    "    data_path: Path\n",
    "    transformation_config: dict\n",
    "    all_schema: dict\n",
    "    target: dict"
   ]
  },
  {
   "cell_type": "code",
   "execution_count": 6,
   "metadata": {},
   "outputs": [],
   "source": [
    "from mlProject.constants import *\n",
    "from mlProject.utils.common import read_yaml, create_directories"
   ]
  },
  {
   "cell_type": "code",
   "execution_count": 7,
   "metadata": {},
   "outputs": [],
   "source": [
    "class ConfigurationManager:\n",
    "    def __init__(\n",
    "        self,\n",
    "        config_filepath = CONFIG_FILE_PATH,\n",
    "        params_filepath = PARAMS_FILE_PATH,\n",
    "        schema_filepath = SCHEMA_FILE_PATH):\n",
    "\n",
    "        self.config = read_yaml(config_filepath)\n",
    "        self.params = read_yaml(params_filepath)\n",
    "        self.schema = read_yaml(schema_filepath)\n",
    "\n",
    "        create_directories([self.config.artifacts_root])\n",
    "\n",
    "    def get_data_transformation_config(self) -> DataTransformationConfig:\n",
    "        config = self.config.data_transformation\n",
    "        transformation_config = self.params.data_transformation\n",
    "        schema = self.schema.COLUMNS\n",
    "        target = self.schema.TARGET_COLUMN\n",
    "\n",
    "        create_directories([config.root_dir])\n",
    "\n",
    "        data_transformation_config = DataTransformationConfig(\n",
    "            root_dir=config.root_dir,\n",
    "            data_path=config.data_path,\n",
    "            transformation_config=transformation_config,\n",
    "            all_schema=schema,\n",
    "            target = target\n",
    "        )\n",
    "\n",
    "        return data_transformation_config"
   ]
  },
  {
   "cell_type": "code",
   "execution_count": 8,
   "metadata": {},
   "outputs": [],
   "source": [
    "import os\n",
    "import joblib\n",
    "from mlProject import logger\n",
    "\n",
    "from sklearn.model_selection import train_test_split\n",
    "from sklearn.preprocessing import StandardScaler\n",
    "import pandas as pd"
   ]
  },
  {
   "cell_type": "code",
   "execution_count": 9,
   "metadata": {},
   "outputs": [],
   "source": [
    "class TrainTestSplitterSK:\n",
    "\n",
    "    def __init__(self, config, inference):\n",
    "        self.config = config\n",
    "        self.inference = inference\n",
    "        for transformation in config.transformation_config:\n",
    "            if transformation.get('name') == 'TrainTestSplitterSK':\n",
    "                self.test_size = transformation.get(\"test_size\")\n",
    "\n",
    "    def transform_data(self, data):\n",
    "\n",
    "        # Split the data into training and test sets. (0.75, 0.25) split.\n",
    "        if not self.inference:\n",
    "\n",
    "            train, test = train_test_split(data)\n",
    "\n",
    "            train.to_csv(os.path.join(self.config.root_dir, \"train.csv\"), index=False)\n",
    "            test.to_csv(os.path.join(self.config.root_dir, \"test.csv\"), index=False)\n",
    "\n",
    "            logger.info(\"Splitted data into training and test sets\")\n",
    "            logger.info(train.shape)\n",
    "            logger.info(test.shape)\n",
    "\n",
    "            print(train.shape)\n",
    "            print(test.shape)\n",
    "\n",
    "\n",
    "class StandardScalerSK:\n",
    "\n",
    "    def __init__(self, config, inference):\n",
    "        self.config = config\n",
    "        self.inference = inference\n",
    "        for transformation in config.transformation_config:\n",
    "            if transformation.get(\"name\") == \"StandardScalerSK\":\n",
    "                self.with_mean = transformation.get(\"with_mean\")\n",
    "\n",
    "    def transform_data(self, data):\n",
    "        if self.inference:\n",
    "            scaler = joblib.load(os.path.join(self.config.root_dir, \"scaler.pkl\"))\n",
    "            data = scaler.transform(data)\n",
    "            data.to_csv(os.path.join(self.config.root_dir, \"data.csv\"), index=False)\n",
    "        else:\n",
    "            # Split the data into training and test sets. (0.75, 0.25) split.\n",
    "            scaler = StandardScaler()\n",
    "            train = pd.read_csv(os.path.join(self.config.root_dir, \"train.csv\"))\n",
    "            test = pd.read_csv(os.path.join(self.config.root_dir, \"test.csv\"))\n",
    "            train_target = train[self.config.target.name]\n",
    "            test_target = test[self.config.target.name]\n",
    "            train_scaled = pd.DataFrame(\n",
    "                scaler.fit_transform(train.drop(columns=[self.config.target.name])),\n",
    "                columns=train.drop(columns=[self.config.target.name]).columns,\n",
    "            )\n",
    "            test_scaled = pd.DataFrame(\n",
    "                scaler.transform(test.drop(columns=[self.config.target.name])),\n",
    "                columns=test.drop(columns=[self.config.target.name]).columns,\n",
    "            )\n",
    "\n",
    "            # Add the \"death\" column back\n",
    "            train = pd.concat([train_scaled, train_target], axis=1)\n",
    "            test = pd.concat([test_scaled, test_target], axis=1)\n",
    "            train.to_csv(os.path.join(self.config.root_dir, \"train.csv\"), index=False)\n",
    "            test.to_csv(os.path.join(self.config.root_dir, \"test.csv\"), index=False)\n",
    "            joblib.dump(scaler, os.path.join(self.config.root_dir, \"scaler.pkl\"))\n",
    "\n",
    "            logger.info(\"Scaled the data\")"
   ]
  },
  {
   "cell_type": "code",
   "execution_count": 10,
   "metadata": {},
   "outputs": [],
   "source": [
    "class DataTransformation:\n",
    "    def __init__(self, config: DataTransformationConfig, inference=False):\n",
    "        self.config = config\n",
    "        self.inference = inference\n",
    "\n",
    "    def apply_transformations(self):\n",
    "        data = pd.read_csv(self.config.data_path)\n",
    "        for transformation in self.config.transformation_config:\n",
    "            # Create an instance of the class\n",
    "            class_name = transformation.name\n",
    "            if class_name in globals():\n",
    "                Transformator = globals()[class_name](config=self.config, inference=self.inference)\n",
    "                Transformator.transform_data(data=data)\n",
    "            else:\n",
    "                raise NameError(f\"Class {class_name} is not defined.\")\n",
    "\n",
    "        return data\n"
   ]
  },
  {
   "cell_type": "code",
   "execution_count": 11,
   "metadata": {},
   "outputs": [
    {
     "name": "stdout",
     "output_type": "stream",
     "text": [
      "[2024-09-20 09:11:12,186: INFO: common: yaml file: config\\config.yaml loaded successfully]\n",
      "[2024-09-20 09:11:12,189: INFO: common: yaml file: params.yaml loaded successfully]\n",
      "[2024-09-20 09:11:12,194: INFO: common: yaml file: schema.yaml loaded successfully]\n",
      "[2024-09-20 09:11:12,197: INFO: common: created directory at: artifacts]\n",
      "[2024-09-20 09:11:12,201: INFO: common: created directory at: artifacts/data_transformation]\n",
      "[2024-09-20 09:11:12,226: INFO: 1496529258: Splitted data into training and test sets]\n",
      "[2024-09-20 09:11:12,227: INFO: 1496529258: (224, 13)]\n",
      "[2024-09-20 09:11:12,228: INFO: 1496529258: (75, 13)]\n",
      "(224, 13)\n",
      "(75, 13)\n",
      "[2024-09-20 09:11:12,302: INFO: 1496529258: Scaled the data]\n"
     ]
    }
   ],
   "source": [
    "try:\n",
    "    config = ConfigurationManager()\n",
    "    data_transformation_config = config.get_data_transformation_config()\n",
    "    data_transformation = DataTransformation(config=data_transformation_config)\n",
    "    data_transformation.apply_transformations()\n",
    "except Exception as e:\n",
    "    raise e"
   ]
  },
  {
   "cell_type": "code",
   "execution_count": null,
   "metadata": {},
   "outputs": [],
   "source": []
  }
 ],
 "metadata": {
  "kernelspec": {
   "display_name": "mlproj",
   "language": "python",
   "name": "python3"
  },
  "language_info": {
   "codemirror_mode": {
    "name": "ipython",
    "version": 3
   },
   "file_extension": ".py",
   "mimetype": "text/x-python",
   "name": "python",
   "nbconvert_exporter": "python",
   "pygments_lexer": "ipython3",
   "version": "3.11.5"
  },
  "orig_nbformat": 4
 },
 "nbformat": 4,
 "nbformat_minor": 2
}
